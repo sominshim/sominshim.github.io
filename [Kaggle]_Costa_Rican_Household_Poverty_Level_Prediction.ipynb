{
  "nbformat": 4,
  "nbformat_minor": 0,
  "metadata": {
    "colab": {
      "name": "[Kaggle] Costa Rican Household Poverty Level Prediction.ipynb",
      "provenance": [],
      "authorship_tag": "ABX9TyMKdlwOtFX80LLE58urfyhK",
      "include_colab_link": true
    },
    "kernelspec": {
      "name": "python3",
      "display_name": "Python 3"
    },
    "language_info": {
      "name": "python"
    }
  },
  "cells": [
    {
      "cell_type": "markdown",
      "metadata": {
        "id": "view-in-github",
        "colab_type": "text"
      },
      "source": [
        "<a href=\"https://colab.research.google.com/github/sominshim/sominshim.github.io/blob/master/%5BKaggle%5D_Costa_Rican_Household_Poverty_Level_Prediction.ipynb\" target=\"_parent\"><img src=\"https://colab.research.google.com/assets/colab-badge.svg\" alt=\"Open In Colab\"/></a>"
      ]
    },
    {
      "cell_type": "markdown",
      "metadata": {
        "id": "O2M-G5_uleMn"
      },
      "source": [
        "# Costa Rican Household Poverty Level Prediction"
      ]
    },
    {
      "cell_type": "markdown",
      "metadata": {
        "id": "APgcnrTZteL5"
      },
      "source": [
        "## Introduction to competition"
      ]
    },
    {
      "cell_type": "markdown",
      "metadata": {
        "id": "IJJ9vzMSleAv"
      },
      "source": [
        "- Train set: 9,557 rows, 142 columns\n",
        "- Test set: 23,856 rows, 142 columns\n",
        "\n",
        "Target: 1-4로 빈곤 수준, 1이면 가장 극심한 빈곤 의미.\n",
        "\n",
        "\n",
        "- 훈련 데이터에 대한 레이블이 함께 제공됨 → **지도 학습 (Supervised)**\n",
        "- 레이블은 4개의 클래스를 가짐 → **다중 클래스 분류\n",
        "(Multi-class classification)**\n",
        "\n",
        "즉 이것은 **지도 다중 클래스 분류 기계학습** 문제이다.\n"
      ]
    },
    {
      "cell_type": "markdown",
      "metadata": {
        "id": "wpx5VaWpo9ph"
      },
      "source": [
        "Important note:\n",
        "\n",
        "모든 가족 구성원이 교육 데이터에서 동일한 레이블을 가져야 하지만 동일 가구의 개인이 다른 레이블을 갖는 오류가 있다. 이러한 경우, parentesco1 == 1.0(가구주)인 값으로 통일시키면 된다.\n",
        "\n",
        "**Core Data fields**\n",
        "- Id: 각 개인에 대한 고유 식별자\n",
        "- idhogar: 각 가구의 고유 식별자. 가구별로 그룹화하는 데 사용.\n",
        "- parentesco1: 가구주인지의 여부.\n",
        "- Target: 소득 수준을 나타내는 순서형 목표 변수.\n",
        "```\n",
        "1 = extreme poverty \n",
        "2 = moderate poverty \n",
        "3 = vulnerable households \n",
        "4 = non vulnerable households\n",
        "```\n"
      ]
    },
    {
      "cell_type": "markdown",
      "metadata": {
        "id": "yPEMU0MDsyRg"
      },
      "source": [
        "가구 단위로 훈련하기 때문에 가장을 기준으로 가구별로 그룹화해야 한다. 가장이 없는 가구가 있다면 훈련에 사용될 수 없으므로 그 데이터는 제거가 필요하다."
      ]
    },
    {
      "cell_type": "markdown",
      "metadata": {
        "id": "A4oUayeNyC-b"
      },
      "source": [
        "# F1 score"
      ]
    },
    {
      "cell_type": "markdown",
      "metadata": {
        "id": "_8wr6oxLBC5X"
      },
      "source": [
        "F1 score: 분류 문제에 대한 정밀도와 재현율의 조화 평균.\n",
        "\n",
        "$$F1 = {2*precision*recall \\over precision + recall}$$\n",
        "\n",
        "다중 클래스 문제의 경우 각 클래스의 F1 점수를 평균화해야 한다. 매크로 F1 점수는 레이블 불균형을 고려하지 않고 각 클래스의 F1 점수를 평균화한다.\n",
        "\n",
        "$$Macro F1 = {F1 Class 1 + F1 Class 2 + F1 Class 3 + F1 Class 4 \\over 4}$$\n",
        "\n",
        "average{‘micro’, ‘macro’, ‘samples’,’weighted’, ‘binary’} or None, default=’binary’\n",
        "\n",
        "이 매개변수는 multiclass/multilabel Target에 따라 다르게 적용해야 한다. \n",
        "- `'binary'`: default, only **binary**.\n",
        "\n",
        "- `None`: 클래스 별 f1-score 반환. \n",
        "\n",
        "- `'macro'`: **각 class에 대한** f1-score 계산 후, 평균 값.\n",
        "\n",
        "- `'weighted'`: **각 class에 대한** f1-score 계산 후, 각 클래스 별 데이터 비율에 따른 가중 평균 값.\n",
        "    - it can result in an F-score that is not between precision and recall.\n",
        "\n",
        "- `'micro'`: **전체 class에 대한** TP/FP/FN을 합산 후 f1-score 계산.\n",
        "- `'samples'`: **각 label**의 f1-score 평균 값. (multilabel classification)"
      ]
    },
    {
      "cell_type": "markdown",
      "metadata": {
        "id": "nTIpd3ZyBxcU"
      },
      "source": [
        "![](https://miro.medium.com/max/1400/1*JqzG5_K4fWLa-_VFswQbxQ.png)"
      ]
    },
    {
      "cell_type": "markdown",
      "metadata": {
        "id": "UJji-knY-tD_"
      },
      "source": [
        "![그림](https://miro.medium.com/max/739/1*ytdBywq7W65GyMqvx33PYQ.png)"
      ]
    },
    {
      "cell_type": "markdown",
      "metadata": {
        "id": "SRggu-0h_Ckx"
      },
      "source": [
        "- Macro-F1 = (42.1% + 30.8% + 66.7%) / 3 = 46.5%\n",
        "\n",
        "\n",
        "- Weighted Average F1-score = (6 × 42.1% + 10 × 30.8% + 9 × 66.7%) / 25 = 46.4%"
      ]
    },
    {
      "cell_type": "markdown",
      "metadata": {
        "id": "nztTvD7oCdZy"
      },
      "source": [
        "### Micro f1-score\n",
        "\n",
        "    TP = 4+2+6 = 12 (대각선을 따라 녹색 셀)\n",
        "\n",
        "    FP = 6+3+1+0+1+2 = 13\n",
        "\n",
        "    FN = 6+3+1+0+1+2 = 13\n",
        "---\n",
        "\n",
        "정밀도 = TP/(TP+FP) = 12 / (12+13) = 48.0%\n",
        "\n",
        "재현율 = TP/(TP+FN) = 12 / (12+13) = 48.0%\n",
        "\n",
        "따라서 micro-f1 = 2*(48 * 48)/(48+48) = 48%\n",
        "== 전체 정확도"
      ]
    },
    {
      "cell_type": "code",
      "metadata": {
        "id": "i9RRScFUyBpt"
      },
      "source": [
        "from sklearn.metrics import f1_score\n",
        "\n",
        "y_true = [0, 1, 2, 0, 1, 2]\n",
        "y_pred = [0, 2, 1, 0, 0, 1]\n",
        "\n",
        "f1_macro = f1_score(y_true, y_pred, average='macro')\n",
        "f1_micro = f1_score(y_true, y_pred, average='micro')\n",
        "f1_weighted = f1_score(y_true, y_pred, average='weighted')\n",
        "f1_none = f1_score(y_true, y_pred, average=None)"
      ],
      "execution_count": 1,
      "outputs": []
    },
    {
      "cell_type": "code",
      "metadata": {
        "colab": {
          "base_uri": "https://localhost:8080/"
        },
        "id": "btLZBtRkqm3q",
        "outputId": "cce0994b-3916-4ddd-97f8-235fe2e43fec"
      },
      "source": [
        "print(f1_macro)\n",
        "print(f1_micro)\n",
        "print(f1_weighted)\n",
        "print(f1_none)"
      ],
      "execution_count": 3,
      "outputs": [
        {
          "output_type": "stream",
          "text": [
            "0.26666666666666666\n",
            "0.3333333333333333\n",
            "0.26666666666666666\n",
            "[0.8 0.  0. ]\n"
          ],
          "name": "stdout"
        }
      ]
    },
    {
      "cell_type": "markdown",
      "metadata": {
        "id": "C9MZm97QT2_j"
      },
      "source": [
        "# "
      ]
    },
    {
      "cell_type": "code",
      "metadata": {
        "id": "72gbeUwQB4BZ"
      },
      "source": [
        ""
      ],
      "execution_count": null,
      "outputs": []
    }
  ]
}